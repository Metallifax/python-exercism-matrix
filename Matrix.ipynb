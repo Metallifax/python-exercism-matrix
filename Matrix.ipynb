{
 "cells": [
  {
   "cell_type": "markdown",
   "metadata": {},
   "source": [
    "## Matrix"
   ]
  },
  {
   "cell_type": "code",
   "execution_count": 1,
   "metadata": {},
   "outputs": [
    {
     "name": "stderr",
     "output_type": "stream",
     "text": [
      "E"
     ]
    },
    {
     "name": "stdout",
     "output_type": "stream",
     "text": [
      "1 2 3 4\n",
      "5 6 7 8\n",
      "9 10 11 12\n",
      "[]\n"
     ]
    },
    {
     "name": "stderr",
     "output_type": "stream",
     "text": [
      "\n",
      "======================================================================\n",
      "ERROR: /Users/mathewforgione/Library/Jupyter/runtime/kernel-225e43f4-eb9d-42c6-8b9d-995ecabc470e (unittest.loader._FailedTest)\n",
      "----------------------------------------------------------------------\n",
      "AttributeError: module '__main__' has no attribute '/Users/mathewforgione/Library/Jupyter/runtime/kernel-225e43f4-eb9d-42c6-8b9d-995ecabc470e'\n",
      "\n",
      "----------------------------------------------------------------------\n",
      "Ran 1 test in 0.001s\n",
      "\n",
      "FAILED (errors=1)\n"
     ]
    },
    {
     "ename": "SystemExit",
     "evalue": "True",
     "output_type": "error",
     "traceback": [
      "An exception has occurred, use %tb to see the full traceback.\n",
      "\u001b[0;31mSystemExit\u001b[0m\u001b[0;31m:\u001b[0m True\n"
     ]
    },
    {
     "name": "stderr",
     "output_type": "stream",
     "text": [
      "/usr/local/lib/python3.8/site-packages/IPython/core/interactiveshell.py:3425: UserWarning: To exit: use 'exit', 'quit', or Ctrl-D.\n",
      "  warn(\"To exit: use 'exit', 'quit', or Ctrl-D.\", stacklevel=1)\n"
     ]
    }
   ],
   "source": [
    "## Test Code\n",
    "import unittest\n",
    "\n",
    "from matrix import Matrix\n",
    "\n",
    "# Tests adapted from `problem-specifications//canonical-data.json`\n",
    "\n",
    "\n",
    "class MatrixTest(unittest.TestCase):\n",
    "    def test_extract_row_from_one_number_matrix(self):\n",
    "        matrix = Matrix(\"1\")\n",
    "        self.assertEqual(matrix.row(1), [1])\n",
    "\n",
    "    def test_can_extract_row(self):\n",
    "        matrix = Matrix(\"1 2\\n3 4\")\n",
    "        self.assertEqual(matrix.row(2), [3, 4])\n",
    "\n",
    "    def test_extract_row_where_numbers_have_different_widths(self):\n",
    "        matrix = Matrix(\"1 2\\n10 20\")\n",
    "        self.assertEqual(matrix.row(2), [10, 20])\n",
    "\n",
    "    def test_can_extract_row_from_non_square_matrix_with_no_corresponding_column(self):\n",
    "        matrix = Matrix(\"1 2 3\\n4 5 6\\n7 8 9\\n8 7 6\")\n",
    "        self.assertEqual(matrix.row(4), [8, 7, 6])\n",
    "\n",
    "    def test_extract_column_from_one_number_matrix(self):\n",
    "        matrix = Matrix(\"1\")\n",
    "        self.assertEqual(matrix.column(1), [1])\n",
    "\n",
    "    def test_can_extract_column(self):\n",
    "        matrix = Matrix(\"1 2 3\\n4 5 6\\n7 8 9\")\n",
    "        self.assertEqual(matrix.column(3), [3, 6, 9])\n",
    "\n",
    "    def test_can_extract_column_from_non_square_matrix_with_no_corresponding_row(self):\n",
    "        matrix = Matrix(\"1 2 3 4\\n5 6 7 8\\n9 8 7 6\")\n",
    "        self.assertEqual(matrix.column(4), [4, 8, 6])\n",
    "\n",
    "    def test_extract_column_where_numbers_have_different_widths(self):\n",
    "        matrix = Matrix(\"89 1903 3\\n18 3 1\\n9 4 800\")\n",
    "        self.assertEqual(matrix.column(2), [1903, 3, 4])\n",
    "\n",
    "\n",
    "if __name__ == \"__main__\":\n",
    "    unittest.main()"
   ]
  },
  {
   "cell_type": "code",
   "execution_count": 116,
   "metadata": {},
   "outputs": [],
   "source": [
    "## My Code\n",
    "class Matrix:\n",
    "    def __init__(self, matrix_string):\n",
    "        self.mat_string = ''.join(matrix_string)\n",
    "    \n",
    "    def __str__(self):\n",
    "        return self.mat_string\n",
    "\n",
    "    def row(self, index):\n",
    "        pass\n",
    "\n",
    "    def column(self, index):\n",
    "        pass"
   ]
  },
  {
   "cell_type": "code",
   "execution_count": 117,
   "metadata": {},
   "outputs": [
    {
     "name": "stdout",
     "output_type": "stream",
     "text": [
      "1 2 3 4\n",
      "5 6 7 8\n",
      "9 10 11 12\n"
     ]
    }
   ],
   "source": [
    "mat = Matrix('1 2 3 4\\n5 6 7 8\\n9 10 11 12')\n",
    "print(mat)"
   ]
  },
  {
   "cell_type": "code",
   "execution_count": null,
   "metadata": {},
   "outputs": [],
   "source": []
  },
  {
   "cell_type": "code",
   "execution_count": null,
   "metadata": {},
   "outputs": [],
   "source": []
  }
 ],
 "metadata": {
  "kernelspec": {
   "display_name": "Python 3",
   "language": "python",
   "name": "python3"
  },
  "language_info": {
   "codemirror_mode": {
    "name": "ipython",
    "version": 3
   },
   "file_extension": ".py",
   "mimetype": "text/x-python",
   "name": "python",
   "nbconvert_exporter": "python",
   "pygments_lexer": "ipython3",
   "version": "3.8.6"
  }
 },
 "nbformat": 4,
 "nbformat_minor": 4
}
