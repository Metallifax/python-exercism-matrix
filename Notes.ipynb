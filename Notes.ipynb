{
 "cells": [
  {
   "cell_type": "markdown",
   "metadata": {},
   "source": [
    "## My crack at the solution"
   ]
  },
  {
   "cell_type": "code",
   "execution_count": 89,
   "metadata": {},
   "outputs": [],
   "source": [
    "from numpy import matrix, array\n",
    "\n",
    "class Matrix: \n",
    "    def __init__(self,matrix_string):\n",
    "        my_string = matrix_string.replace('\\n', ';')\n",
    "        self.matrix_string = ''.join(my_string)\n",
    "        \n",
    "    def matrix_arr(self):\n",
    "        return matrix(self.matrix_string)\n",
    "    \n",
    "    def __str__(self):\n",
    "        return self.matrix_string\n",
    "\n",
    "    def row(self, index):\n",
    "        pass\n",
    "    \n",
    "    def column(self, index):\n",
    "        pass"
   ]
  },
  {
   "cell_type": "code",
   "execution_count": 88,
   "metadata": {},
   "outputs": [
    {
     "name": "stdout",
     "output_type": "stream",
     "text": [
      "12 23 54 ; 30 40 50 ; 60 70 80\n",
      "[[12 23 54]\n",
      " [30 40 50]\n",
      " [60 70 80]]\n"
     ]
    }
   ],
   "source": [
    "mat = Matrix('12 23 54 \\n 30 40 50 \\n 60 70 80')\n",
    "print(mat)\n",
    "print(mat.matrix_arr())"
   ]
  },
  {
   "cell_type": "code",
   "execution_count": null,
   "metadata": {},
   "outputs": [],
   "source": []
  },
  {
   "cell_type": "code",
   "execution_count": null,
   "metadata": {},
   "outputs": [],
   "source": []
  }
 ],
 "metadata": {
  "kernelspec": {
   "display_name": "Python 3",
   "language": "python",
   "name": "python3"
  },
  "language_info": {
   "codemirror_mode": {
    "name": "ipython",
    "version": 3
   },
   "file_extension": ".py",
   "mimetype": "text/x-python",
   "name": "python",
   "nbconvert_exporter": "python",
   "pygments_lexer": "ipython3",
   "version": "3.8.6"
  }
 },
 "nbformat": 4,
 "nbformat_minor": 4
}
