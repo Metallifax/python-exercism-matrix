{
 "cells": [
  {
   "cell_type": "markdown",
   "metadata": {},
   "source": [
    "## Numpy in 2020 Crash Course"
   ]
  },
  {
   "cell_type": "markdown",
   "metadata": {},
   "source": [
    "## 1. Numpy Introduction \n",
    "\n",
    "- Core library for scientific computing in Python\n",
    "    - Data Science, Machine Learning, Deep Learning\n",
    "    - scikit-learn, matplotlib, pandas ...\n",
    "- High Performance multidimensional array -> FAST!\n",
    "- Mathematical operations with arrrays\n",
    "- A lot of code written in C -> py functions are wrappers around C classes.\n",
    "\n",
    "## Numpy Use-cases\n",
    "\n",
    "- Array/Matrix operations - Linear Algebra\n",
    "- Dot product\n",
    "- Matrix multiplications\n",
    "- Linear systems\n",
    "- Inverse, determinant\n",
    "- Eigenvectors\n",
    "- Random numbers\n",
    "- Working with images represented as array\n",
    "- ...  \n",
    "![](numpy2020-1.png)  \n",
    "\n",
    "## The Code  "
   ]
  },
  {
   "cell_type": "code",
   "execution_count": 138,
   "metadata": {},
   "outputs": [],
   "source": [
    "## Numpy import for whole notebook\n",
    "import numpy as np\n",
    "\n",
    "## Utility functions\n",
    "def spacer():\n",
    "    print('~~~~~~~~~~~~~~~~~~')"
   ]
  },
  {
   "cell_type": "code",
   "execution_count": 139,
   "metadata": {},
   "outputs": [
    {
     "name": "stdout",
     "output_type": "stream",
     "text": [
      "1.19.1\n"
     ]
    }
   ],
   "source": [
    "## Simply print the version to check\n",
    "print(np.__version__)"
   ]
  },
  {
   "cell_type": "code",
   "execution_count": 140,
   "metadata": {},
   "outputs": [
    {
     "name": "stdout",
     "output_type": "stream",
     "text": [
      "(3,)\n"
     ]
    }
   ],
   "source": [
    "## First array of the lecture\n",
    "a = np.array([1,2,3])\n",
    "print(a.shape)"
   ]
  },
  {
   "cell_type": "code",
   "execution_count": 141,
   "metadata": {},
   "outputs": [
    {
     "name": "stdout",
     "output_type": "stream",
     "text": [
      "int64\n"
     ]
    }
   ],
   "source": [
    "## Print array's data type\n",
    "print(a.dtype)"
   ]
  },
  {
   "cell_type": "code",
   "execution_count": 142,
   "metadata": {},
   "outputs": [
    {
     "name": "stdout",
     "output_type": "stream",
     "text": [
      "1\n"
     ]
    }
   ],
   "source": [
    "## Print array's dimensions\n",
    "print(a.ndim)"
   ]
  },
  {
   "cell_type": "code",
   "execution_count": 143,
   "metadata": {},
   "outputs": [
    {
     "name": "stdout",
     "output_type": "stream",
     "text": [
      "3\n"
     ]
    }
   ],
   "source": [
    "## return total number of elements\n",
    "print(a.size)"
   ]
  },
  {
   "cell_type": "code",
   "execution_count": 144,
   "metadata": {},
   "outputs": [
    {
     "name": "stdout",
     "output_type": "stream",
     "text": [
      "8\n"
     ]
    }
   ],
   "source": [
    "## returns the size in bytes of each element\n",
    "print(a.itemsize)"
   ]
  },
  {
   "cell_type": "code",
   "execution_count": 145,
   "metadata": {},
   "outputs": [
    {
     "name": "stdout",
     "output_type": "stream",
     "text": [
      "1\n"
     ]
    }
   ],
   "source": [
    "## Indexing a numpy array --> returns the first element\n",
    "print(a[0])"
   ]
  },
  {
   "cell_type": "code",
   "execution_count": 146,
   "metadata": {},
   "outputs": [
    {
     "name": "stdout",
     "output_type": "stream",
     "text": [
      "[10  2  3]\n"
     ]
    }
   ],
   "source": [
    "## altering values in the array\n",
    "a[0] = 10\n",
    "print(a)"
   ]
  },
  {
   "cell_type": "code",
   "execution_count": 147,
   "metadata": {},
   "outputs": [
    {
     "name": "stdout",
     "output_type": "stream",
     "text": [
      "[10  2  3] Times [2,0,2] is equal to [20  0  6]\n"
     ]
    }
   ],
   "source": [
    "## Array multiplication\n",
    "b = a * np.array([2,0,2])\n",
    "print(a,'Times [2,0,2] is equal to',b)"
   ]
  },
  {
   "cell_type": "code",
   "execution_count": 148,
   "metadata": {},
   "outputs": [
    {
     "name": "stdout",
     "output_type": "stream",
     "text": [
      "   List   | np.array()\n",
      "---------------------\n",
      " [1, 2, 3]  [1 2 3]\n"
     ]
    }
   ],
   "source": [
    "## Python lists vs np arrays\n",
    "\n",
    "l = [1,2,3]\n",
    "a = np.array([1,2,3])\n",
    "\n",
    "def compare(l,a):\n",
    "    print('   List   | np.array()')\n",
    "    print('---------------------')\n",
    "    print('',l,'',a)\n",
    "reset(l,a)\n",
    "compare(l,a)"
   ]
  },
  {
   "cell_type": "code",
   "execution_count": 149,
   "metadata": {},
   "outputs": [],
   "source": [
    "#l.append(4)\n",
    "#a.append(4) # Has no attribute 'append'\n",
    "\n",
    "# This spits out a no attribute exception\n",
    "# compare(l,a)"
   ]
  },
  {
   "cell_type": "code",
   "execution_count": 150,
   "metadata": {},
   "outputs": [
    {
     "name": "stdout",
     "output_type": "stream",
     "text": [
      "   List   | np.array()\n",
      "---------------------\n",
      " [1, 2, 3, 4]  [5 6 7]\n"
     ]
    }
   ],
   "source": [
    "# Now for something completely different\n",
    "l = [1,2,3]\n",
    "a = np.array([1,2,3])\n",
    "\n",
    "l = l + [4]\n",
    "a = np.array([1,2,3])\n",
    "a = a + np.array([4]) # brut casting?\n",
    "compare(l,a)"
   ]
  },
  {
   "cell_type": "code",
   "execution_count": 151,
   "metadata": {},
   "outputs": [
    {
     "name": "stdout",
     "output_type": "stream",
     "text": [
      "   List   | np.array()\n",
      "---------------------\n",
      " [1, 2, 3, 1, 2, 3]  [2 4 6]\n"
     ]
    }
   ],
   "source": [
    "l = [1,2,3]\n",
    "a = np.array([1,2,3])\n",
    "\n",
    "l = l * 2\n",
    "a = a * 2\n",
    "compare(l,a)"
   ]
  },
  {
   "cell_type": "code",
   "execution_count": 152,
   "metadata": {},
   "outputs": [
    {
     "name": "stdout",
     "output_type": "stream",
     "text": [
      "[0.         0.69314718 1.09861229]\n"
     ]
    }
   ],
   "source": [
    "# np.array functions\n",
    "l = [1,2,3]\n",
    "a = np.array([1,2,3])\n",
    "\n",
    "a = np.log(a) # sqrt, \n",
    "print(a)"
   ]
  },
  {
   "cell_type": "code",
   "execution_count": 153,
   "metadata": {},
   "outputs": [
    {
     "name": "stdout",
     "output_type": "stream",
     "text": [
      "32\n"
     ]
    }
   ],
   "source": [
    "# Dot Product\n",
    "l1 = [1,2,3]\n",
    "l2 = [4,5,6]\n",
    "a1 = np.array(l1)\n",
    "a2 = np.array(l2)\n",
    "\n",
    "# # Naiive Method\n",
    "# dot = 0\n",
    "# for i in range(len(l1)):\n",
    "#     dot += l1[i] * l2[i]\n",
    "# print(dot)\n",
    "\n",
    "dot = np.dot(a1,a2)\n",
    "print(dot)"
   ]
  },
  {
   "cell_type": "code",
   "execution_count": 154,
   "metadata": {},
   "outputs": [
    {
     "name": "stdout",
     "output_type": "stream",
     "text": [
      "32\n"
     ]
    }
   ],
   "source": [
    "## Practice\n",
    "l1 = [1,2,3]\n",
    "l2 = [4,5,6]\n",
    "a1 = np.array(l1)\n",
    "a2 = np.array(l2)\n",
    "\n",
    "# # Simple Way\n",
    "# sum1 = a1 * a2\n",
    "# dot = np.sum(sum1)\n",
    "# print(dot)\n",
    "\n",
    "# # More Pythonic way\n",
    "# dot = (a1 * a2).sum()\n",
    "# print(dot)\n",
    "\n",
    "# Decorator function (CARNAGE MODE)\n",
    "dot = a1 @ a2\n",
    "print(dot)"
   ]
  },
  {
   "cell_type": "code",
   "execution_count": 155,
   "metadata": {},
   "outputs": [
    {
     "name": "stdout",
     "output_type": "stream",
     "text": [
      "list calculation 0.3901469519996681\n",
      "np.dot 0.001832060999731766\n",
      "ratio 212.95521931681856\n"
     ]
    }
   ],
   "source": [
    "## Numpy Speed Test\n",
    "from timeit import default_timer as timer\n",
    "\n",
    "a = np.random.randn(1000)\n",
    "b = np.random.randn(1000)\n",
    "\n",
    "A = list(a)\n",
    "B = list(b)\n",
    "\n",
    "T = 1000\n",
    "\n",
    "def dot1():\n",
    "    dot = 0\n",
    "    for i in range(len(A)):\n",
    "        dot += A[i]*B[i]\n",
    "    return dot\n",
    "\n",
    "def dot2():\n",
    "    return np.dot(a,b)\n",
    "\n",
    "start = timer()\n",
    "for t in range(T):\n",
    "    dot1()\n",
    "end = timer()\n",
    "t1 = end-start\n",
    "\n",
    "start = timer()\n",
    "for t in range(T):\n",
    "    dot2()\n",
    "end = timer()\n",
    "t2 = end-start\n",
    "\n",
    "print('list calculation', t1)\n",
    "print('np.dot', t2)\n",
    "print('ratio', t1/t2)"
   ]
  },
  {
   "cell_type": "markdown",
   "metadata": {},
   "source": [
    "## ND Arrays (Multidimensional Arrays)"
   ]
  },
  {
   "cell_type": "code",
   "execution_count": 156,
   "metadata": {},
   "outputs": [
    {
     "name": "stdout",
     "output_type": "stream",
     "text": [
      "np.array:\n",
      " [[1 2]\n",
      " [3 4]]\n",
      "~~~~~~~~~~~~~~~~~~\n",
      "a.shape :\n",
      " (2, 2)\n",
      "~~~~~~~~~~~~~~~~~~\n",
      "a[0][0] :\n",
      " 1\n",
      "~~~~~~~~~~~~~~~~~~\n",
      "All rows in column 0 [1 3]\n",
      "All columns in row 0 [1 2]\n"
     ]
    }
   ],
   "source": [
    "a = np.array([[1,2],[3,4]])\n",
    "print('np.array:\\n',a)\n",
    "spacer()\n",
    "print('a.shape :\\n',a.shape)\n",
    "spacer()\n",
    "# print('a[0][0] =', a[0][0])\n",
    "print('a[0][0] :\\n',a[0][0])\n",
    "spacer()\n",
    "print('All rows in column 0',a[:,0])\n",
    "print('All columns in row 0',a[0,:])"
   ]
  },
  {
   "cell_type": "code",
   "execution_count": 157,
   "metadata": {},
   "outputs": [
    {
     "name": "stdout",
     "output_type": "stream",
     "text": [
      "[[-2.   1. ]\n",
      " [ 1.5 -0.5]]\n"
     ]
    }
   ],
   "source": [
    "## Get inverse of a\n",
    "print(np.linalg.inv(a))"
   ]
  },
  {
   "cell_type": "code",
   "execution_count": 158,
   "metadata": {},
   "outputs": [
    {
     "name": "stdout",
     "output_type": "stream",
     "text": [
      "-2.0000000000000004\n"
     ]
    }
   ],
   "source": [
    "## Get the determinant\n",
    "print(np.linalg.det(a))"
   ]
  },
  {
   "cell_type": "code",
   "execution_count": 159,
   "metadata": {},
   "outputs": [
    {
     "name": "stdout",
     "output_type": "stream",
     "text": [
      "[[1 2]\n",
      " [3 4]]\n",
      "[[1 0]\n",
      " [0 4]]\n"
     ]
    }
   ],
   "source": [
    "## Return the diagonal matrix\n",
    "c = np.diag(a)\n",
    "\n",
    "print(a)\n",
    "print(np.diag(c))\n"
   ]
  },
  {
   "cell_type": "code",
   "execution_count": 160,
   "metadata": {},
   "outputs": [
    {
     "name": "stdout",
     "output_type": "stream",
     "text": [
      "[[1 2 3 4]\n",
      " [5 6 7 8]]\n",
      "~~~~~~~~~~~~~~~~~~\n",
      "[1 2 3 4]\n"
     ]
    }
   ],
   "source": [
    "## Slicing\n",
    "a = np.array([[1,2,3,4],[5,6,7,8]])\n",
    "print(a)\n",
    "spacer()\n",
    "b = a[0,:]\n",
    "print(b)"
   ]
  },
  {
   "cell_type": "markdown",
   "metadata": {},
   "source": [
    "#### Link: https://www.youtube.com/watch?v=9JUAPgtkKpI\n",
    "\n",
    "#### Left off at 24:17\n"
   ]
  },
  {
   "cell_type": "code",
   "execution_count": null,
   "metadata": {},
   "outputs": [],
   "source": []
  },
  {
   "cell_type": "code",
   "execution_count": null,
   "metadata": {},
   "outputs": [],
   "source": []
  },
  {
   "cell_type": "code",
   "execution_count": null,
   "metadata": {},
   "outputs": [],
   "source": []
  }
 ],
 "metadata": {
  "kernelspec": {
   "display_name": "Python 3",
   "language": "python",
   "name": "python3"
  },
  "language_info": {
   "codemirror_mode": {
    "name": "ipython",
    "version": 3
   },
   "file_extension": ".py",
   "mimetype": "text/x-python",
   "name": "python",
   "nbconvert_exporter": "python",
   "pygments_lexer": "ipython3",
   "version": "3.8.6"
  }
 },
 "nbformat": 4,
 "nbformat_minor": 4
}
