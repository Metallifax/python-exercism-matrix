{
 "cells": [
  {
   "cell_type": "markdown",
   "metadata": {},
   "source": [
    "## Matrices in Python Telusko"
   ]
  },
  {
   "cell_type": "code",
   "execution_count": 13,
   "metadata": {},
   "outputs": [],
   "source": [
    "from numpy import *"
   ]
  },
  {
   "cell_type": "code",
   "execution_count": 23,
   "metadata": {},
   "outputs": [
    {
     "name": "stdout",
     "output_type": "stream",
     "text": [
      "(2, 6)\n",
      "2\n",
      "12\n"
     ]
    }
   ],
   "source": [
    "arr1 = array([\n",
    "    [1, 2, 3, 6, 2, 9],\n",
    "    [4, 5, 6, 7, 5, 3]\n",
    "])\n",
    "\n",
    "print(arr1.shape)\n",
    "print(arr1.ndim)\n",
    "print(arr1.size)"
   ]
  },
  {
   "cell_type": "code",
   "execution_count": 24,
   "metadata": {},
   "outputs": [
    {
     "name": "stdout",
     "output_type": "stream",
     "text": [
      "(12,)\n"
     ]
    }
   ],
   "source": [
    "## 2D Array to 1D\n",
    "arr2 = arr1\n",
    "arr2 = arr2.flatten()\n",
    "print(arr2.shape)\n"
   ]
  },
  {
   "cell_type": "code",
   "execution_count": 25,
   "metadata": {},
   "outputs": [
    {
     "name": "stdout",
     "output_type": "stream",
     "text": [
      "[[1 2 3 6]\n",
      " [2 9 4 5]\n",
      " [6 7 5 3]]\n"
     ]
    }
   ],
   "source": [
    "arr3 = arr2.reshape(3,4)\n",
    "print(arr3)"
   ]
  },
  {
   "cell_type": "code",
   "execution_count": 28,
   "metadata": {},
   "outputs": [
    {
     "name": "stdout",
     "output_type": "stream",
     "text": [
      "[[[1 2 3]\n",
      "  [6 2 9]]\n",
      "\n",
      " [[4 5 6]\n",
      "  [7 5 3]]]\n"
     ]
    }
   ],
   "source": [
    "arr3 = arr2.reshape(2,2,3)\n",
    "print(arr3)"
   ]
  },
  {
   "cell_type": "code",
   "execution_count": 34,
   "metadata": {},
   "outputs": [
    {
     "data": {
      "text/plain": [
       "matrix([[1, 2, 3, 6],\n",
       "        [4, 5, 6, 7]])"
      ]
     },
     "execution_count": 34,
     "metadata": {},
     "output_type": "execute_result"
    }
   ],
   "source": [
    "# matrices with numpy\n",
    "m = matrix('1 2 3 6 ; 4 5 6 7')\n",
    "m"
   ]
  },
  {
   "cell_type": "code",
   "execution_count": 35,
   "metadata": {},
   "outputs": [
    {
     "data": {
      "text/plain": [
       "matrix([[1, 2, 3],\n",
       "        [4, 5, 6],\n",
       "        [7, 8, 9]])"
      ]
     },
     "execution_count": 35,
     "metadata": {},
     "output_type": "execute_result"
    }
   ],
   "source": [
    "m2 = matrix('1 2 3 ; 4 5 6 ; 7 8 9')\n",
    "m2"
   ]
  },
  {
   "cell_type": "code",
   "execution_count": 45,
   "metadata": {},
   "outputs": [
    {
     "name": "stdout",
     "output_type": "stream",
     "text": [
      "~~~\n",
      "[[1 2 3]\n",
      " [4 5 6]\n",
      " [7 8 9]]\n",
      "M2 shape: (3, 3)\n",
      "Min is: 1\n"
     ]
    }
   ],
   "source": [
    "print(\"~~~\")\n",
    "print(m2)\n",
    "print('M2 shape:', m2.shape)\n",
    "print('Min is:', m2.min())"
   ]
  },
  {
   "cell_type": "code",
   "execution_count": 47,
   "metadata": {},
   "outputs": [
    {
     "name": "stdout",
     "output_type": "stream",
     "text": [
      "[[ 2  4  6]\n",
      " [12 12 10]\n",
      " [ 3 12 14]]\n"
     ]
    }
   ],
   "source": [
    "# Multiplying two matrices\n",
    "m1 = matrix('1 2 3 ; 6 4 5 ; 1 6 7')\n",
    "m2 = matrix('1 2 3 ; 6 8 5 ; 2 6 7')\n",
    "\n",
    "m3 = m1 + m2\n",
    "print(m3)"
   ]
  },
  {
   "cell_type": "code",
   "execution_count": null,
   "metadata": {},
   "outputs": [],
   "source": []
  }
 ],
 "metadata": {
  "kernelspec": {
   "display_name": "Python 3",
   "language": "python",
   "name": "python3"
  },
  "language_info": {
   "codemirror_mode": {
    "name": "ipython",
    "version": 3
   },
   "file_extension": ".py",
   "mimetype": "text/x-python",
   "name": "python",
   "nbconvert_exporter": "python",
   "pygments_lexer": "ipython3",
   "version": "3.8.6"
  }
 },
 "nbformat": 4,
 "nbformat_minor": 4
}
